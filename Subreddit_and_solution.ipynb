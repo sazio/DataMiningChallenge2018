{
 "cells": [
  {
   "cell_type": "code",
   "execution_count": 1,
   "metadata": {},
   "outputs": [
    {
     "name": "stdout",
     "output_type": "stream",
     "text": [
      "Populating the interactive namespace from numpy and matplotlib\n"
     ]
    }
   ],
   "source": [
    "%pylab inline\n",
    "import pandas as pd\n",
    "import tqdm\n",
    "import gensim    #for w2v"
   ]
  },
  {
   "cell_type": "markdown",
   "metadata": {},
   "source": [
    "# Load the train data"
   ]
  },
  {
   "cell_type": "code",
   "execution_count": 2,
   "metadata": {},
   "outputs": [],
   "source": [
    "train_data = pd.read_csv(\"kaggle_data/train_data.csv.gz\", compression=\"gzip\", encoding=\"utf8\")"
   ]
  },
  {
   "cell_type": "code",
   "execution_count": 3,
   "metadata": {},
   "outputs": [],
   "source": [
    "target = pd.read_csv(\"kaggle_data/train_target.csv\")"
   ]
  },
  {
   "cell_type": "markdown",
   "metadata": {},
   "source": [
    "# Feature Extraction"
   ]
  },
  {
   "cell_type": "code",
   "execution_count": 4,
   "metadata": {},
   "outputs": [
    {
     "data": {
      "text/plain": [
       "mylittlepony         0\n",
       "sex                  1\n",
       "DragonsDogma         2\n",
       "malefashionadvice    3\n",
       "todayilearned        4\n",
       "dtype: int64"
      ]
     },
     "execution_count": 4,
     "metadata": {},
     "output_type": "execute_result"
    }
   ],
   "source": [
    "subreddits = train_data.subreddit.unique()   #vett. dei subreddit: ['mylittlepony' 'sex' 'DragonsDogma' ... ]\n",
    "subreddits_map = pd.Series(index=subreddits, data=arange(subreddits.shape[0])) #Serie: (nome subreddit, etichetta)\n",
    "\n",
    "subreddits_map.head()"
   ]
  },
  {
   "cell_type": "code",
   "execution_count": 5,
   "metadata": {},
   "outputs": [],
   "source": [
    "from scipy import sparse"
   ]
  },
  {
   "cell_type": "code",
   "execution_count": 6,
   "metadata": {},
   "outputs": [
    {
     "data": {
      "text/plain": [
       "<1x3468 sparse matrix of type '<class 'numpy.float64'>'\n",
       "\twith 1 stored elements in Compressed Sparse Row format>"
      ]
     },
     "execution_count": 6,
     "metadata": {},
     "output_type": "execute_result"
    }
   ],
   "source": [
    "def extract_features(group):\n",
    "    group_subreddits = group['subreddit'].values      #vett. dei nomi dei subreddit\n",
    "    idxs = subreddits_map[group_subreddits].values    #vett. delle etichette dei subreddit\n",
    "    v = sparse.dok_matrix((1, subreddits.shape[0]))   #creo la matrice sparsa di dimensioni: 1 x numero di subreddit\n",
    "    for idx in idxs:\n",
    "        if not np.isnan(idx):   #per ogni etichetta non nulla, assegno un valore 1 nella matrice sparsa\n",
    "            v[0, idx] = 1\n",
    "    return v.tocsr()            # converto v nel formato CSR: Compressed Sparse Row matrix\n",
    "\n",
    "#es: creo il vett. riga sparso che mi dice in che subreddit l'autore 'RedThunder90' ha partecipato  \n",
    "extract_features(train_data[train_data.author=='RedThunder90'])  "
   ]
  },
  {
   "cell_type": "code",
   "execution_count": 7,
   "metadata": {},
   "outputs": [],
   "source": [
    "features_dict = {}   #creo il dizionario delle features\n",
    "\n",
    "for author, group in train_data.groupby('author'):\n",
    "    features_dict[author] = extract_features(group) \n",
    "    #per ogni key 'author', associo il vett. riga sparso delle features"
   ]
  },
  {
   "cell_type": "code",
   "execution_count": 8,
   "metadata": {},
   "outputs": [
    {
     "data": {
      "text/plain": [
       "<5000x3468 sparse matrix of type '<class 'numpy.float64'>'\n",
       "\twith 49152 stored elements in Compressed Sparse Row format>"
      ]
     },
     "execution_count": 8,
     "metadata": {},
     "output_type": "execute_result"
    }
   ],
   "source": [
    "X = sparse.vstack([features_dict[author] for author in target.author])\n",
    "#costruisco X, la matrice sparsa dei dati: metto in verticale i 5000 vettori delle caratteristiche dei 5000 autori\n",
    "X"
   ]
  },
  {
   "cell_type": "code",
   "execution_count": 9,
   "metadata": {},
   "outputs": [],
   "source": [
    "y = target.gender"
   ]
  },
  {
   "cell_type": "markdown",
   "metadata": {},
   "source": [
    "# Model Selection"
   ]
  },
  {
   "cell_type": "code",
   "execution_count": 10,
   "metadata": {},
   "outputs": [],
   "source": [
    "from sklearn.preprocessing import StandardScaler # For scaling\n",
    "from sklearn.model_selection import train_test_split # for creating valid set and train set \n",
    "from sklearn.neural_network import MLPClassifier\n",
    "from sklearn.svm import SVC \n",
    "from sklearn.model_selection import KFold"
   ]
  },
  {
   "cell_type": "markdown",
   "metadata": {},
   "source": [
    "#### prepare data: { X, y}"
   ]
  },
  {
   "cell_type": "code",
   "execution_count": 11,
   "metadata": {},
   "outputs": [],
   "source": [
    "X_array = X.toarray()\n",
    "\n",
    "#print (type(X))          --->  <class 'scipy.sparse.csr.csr_matrix'>\n",
    "#print (type(X_array))    --->  <class 'numpy.ndarray'>"
   ]
  },
  {
   "cell_type": "code",
   "execution_count": 12,
   "metadata": {},
   "outputs": [],
   "source": [
    "X = np.array(list(map(np.array, X_array)))     \n",
    "y = np.array(list(map(np.array, y)))\n",
    "\n",
    "# map(function_to_apply, list_of_inputs) --> applies a function to all the items in an input_list"
   ]
  },
  {
   "cell_type": "markdown",
   "metadata": {},
   "source": [
    "#### Split dataset: training set + validation set"
   ]
  },
  {
   "cell_type": "code",
   "execution_count": 13,
   "metadata": {},
   "outputs": [],
   "source": [
    "SEED = 2000\n",
    "x_train , x_validation, y_train , y_validation = train_test_split(X, y, test_size = 1000, \n",
    "                                                                 random_state = SEED)"
   ]
  },
  {
   "cell_type": "markdown",
   "metadata": {},
   "source": [
    "#### training MLP, with cross validation"
   ]
  },
  {
   "cell_type": "code",
   "execution_count": 14,
   "metadata": {},
   "outputs": [
    {
     "name": "stdout",
     "output_type": "stream",
     "text": [
      "Iteration 1, loss = 0.63699683\n",
      "Validation score: 0.740000\n",
      "Iteration 2, loss = 0.51982861\n",
      "Validation score: 0.754286\n",
      "Iteration 3, loss = 0.44217219\n",
      "Validation score: 0.817143\n",
      "Iteration 4, loss = 0.37650649\n",
      "Validation score: 0.828571\n",
      "Iteration 5, loss = 0.32803089\n",
      "Validation score: 0.828571\n",
      "Iteration 6, loss = 0.29350151\n",
      "Validation score: 0.834286\n",
      "Iteration 7, loss = 0.26833557\n",
      "Validation score: 0.837143\n",
      "Iteration 8, loss = 0.24963183\n",
      "Validation score: 0.840000\n",
      "Iteration 9, loss = 0.23452009\n",
      "Validation score: 0.825714\n",
      "Iteration 10, loss = 0.22288484\n",
      "Validation score: 0.831429\n",
      "Iteration 11, loss = 0.21271040\n",
      "Validation score: 0.828571\n",
      "Validation score did not improve more than tol=0.000100 for two consecutive epochs. Stopping.\n",
      "0.838\n",
      "Iteration 1, loss = 0.64435676\n",
      "Validation score: 0.722857\n",
      "Iteration 2, loss = 0.52603248\n",
      "Validation score: 0.740000\n",
      "Iteration 3, loss = 0.45108983\n",
      "Validation score: 0.788571\n",
      "Iteration 4, loss = 0.38684086\n",
      "Validation score: 0.822857\n",
      "Iteration 5, loss = 0.34037831\n",
      "Validation score: 0.825714\n",
      "Iteration 6, loss = 0.30415727\n",
      "Validation score: 0.831429\n",
      "Iteration 7, loss = 0.27882630\n",
      "Validation score: 0.834286\n",
      "Iteration 8, loss = 0.25996410\n",
      "Validation score: 0.845714\n",
      "Iteration 9, loss = 0.24551467\n",
      "Validation score: 0.845714\n",
      "Iteration 10, loss = 0.23368980\n",
      "Validation score: 0.845714\n",
      "Iteration 11, loss = 0.22440750\n",
      "Validation score: 0.834286\n",
      "Validation score did not improve more than tol=0.000100 for two consecutive epochs. Stopping.\n",
      "0.86\n",
      "Iteration 1, loss = 0.61801394\n",
      "Validation score: 0.777143\n",
      "Iteration 2, loss = 0.51324958\n",
      "Validation score: 0.820000\n",
      "Iteration 3, loss = 0.43490901\n",
      "Validation score: 0.885714\n",
      "Iteration 4, loss = 0.37283341\n",
      "Validation score: 0.885714\n",
      "Iteration 5, loss = 0.32887240\n",
      "Validation score: 0.877143\n",
      "Iteration 6, loss = 0.29676947\n",
      "Validation score: 0.871429\n",
      "Validation score did not improve more than tol=0.000100 for two consecutive epochs. Stopping.\n",
      "0.846\n",
      "Iteration 1, loss = 0.63653120\n",
      "Validation score: 0.720000\n",
      "Iteration 2, loss = 0.52553157\n",
      "Validation score: 0.745714\n",
      "Iteration 3, loss = 0.45173197\n",
      "Validation score: 0.822857\n",
      "Iteration 4, loss = 0.38818495\n",
      "Validation score: 0.840000\n",
      "Iteration 5, loss = 0.34156192\n",
      "Validation score: 0.857143\n",
      "Iteration 6, loss = 0.30668810\n",
      "Validation score: 0.868571\n",
      "Iteration 7, loss = 0.28034062\n",
      "Validation score: 0.874286\n",
      "Iteration 8, loss = 0.26033426\n",
      "Validation score: 0.877143\n",
      "Iteration 9, loss = 0.24509505\n",
      "Validation score: 0.880000\n",
      "Iteration 10, loss = 0.23241379\n",
      "Validation score: 0.880000\n",
      "Iteration 11, loss = 0.22228088\n",
      "Validation score: 0.880000\n",
      "Iteration 12, loss = 0.21347483\n",
      "Validation score: 0.877143\n",
      "Validation score did not improve more than tol=0.000100 for two consecutive epochs. Stopping.\n",
      "0.838\n",
      "Iteration 1, loss = 0.64476077\n",
      "Validation score: 0.748571\n",
      "Iteration 2, loss = 0.51750906\n",
      "Validation score: 0.782857\n",
      "Iteration 3, loss = 0.43868597\n",
      "Validation score: 0.831429\n",
      "Iteration 4, loss = 0.37732284\n",
      "Validation score: 0.851429\n",
      "Iteration 5, loss = 0.33346012\n",
      "Validation score: 0.862857\n",
      "Iteration 6, loss = 0.30090399\n",
      "Validation score: 0.871429\n",
      "Iteration 7, loss = 0.27737254\n",
      "Validation score: 0.868571\n",
      "Iteration 8, loss = 0.25965317\n",
      "Validation score: 0.874286\n",
      "Iteration 9, loss = 0.24484514\n",
      "Validation score: 0.877143\n",
      "Iteration 10, loss = 0.23278534\n",
      "Validation score: 0.882857\n",
      "Iteration 11, loss = 0.22297437\n",
      "Validation score: 0.880000\n",
      "Iteration 12, loss = 0.21492429\n",
      "Validation score: 0.880000\n",
      "Iteration 13, loss = 0.20760579\n",
      "Validation score: 0.877143\n",
      "Validation score did not improve more than tol=0.000100 for two consecutive epochs. Stopping.\n",
      "0.874\n",
      "Iteration 1, loss = 0.67438073\n",
      "Validation score: 0.725714\n",
      "Iteration 2, loss = 0.53418800\n",
      "Validation score: 0.808571\n",
      "Iteration 3, loss = 0.45137672\n",
      "Validation score: 0.828571\n",
      "Iteration 4, loss = 0.38552650\n",
      "Validation score: 0.840000\n",
      "Iteration 5, loss = 0.33718725\n",
      "Validation score: 0.845714\n",
      "Iteration 6, loss = 0.30235770\n",
      "Validation score: 0.842857\n",
      "Iteration 7, loss = 0.27699665\n",
      "Validation score: 0.845714\n",
      "Iteration 8, loss = 0.25794798\n",
      "Validation score: 0.845714\n",
      "Validation score did not improve more than tol=0.000100 for two consecutive epochs. Stopping.\n",
      "0.862\n",
      "Iteration 1, loss = 0.64018623\n",
      "Validation score: 0.697143\n",
      "Iteration 2, loss = 0.52794884\n",
      "Validation score: 0.742857\n",
      "Iteration 3, loss = 0.45309953\n",
      "Validation score: 0.822857\n",
      "Iteration 4, loss = 0.38976076\n",
      "Validation score: 0.851429\n",
      "Iteration 5, loss = 0.34169834\n",
      "Validation score: 0.857143\n",
      "Iteration 6, loss = 0.30672625\n",
      "Validation score: 0.857143\n",
      "Iteration 7, loss = 0.28050775\n",
      "Validation score: 0.857143\n",
      "Iteration 8, loss = 0.26042707\n",
      "Validation score: 0.851429\n",
      "Validation score did not improve more than tol=0.000100 for two consecutive epochs. Stopping.\n",
      "0.866\n",
      "Iteration 1, loss = 0.63818087\n",
      "Validation score: 0.714286\n",
      "Iteration 2, loss = 0.52788811\n",
      "Validation score: 0.728571\n",
      "Iteration 3, loss = 0.45160181\n",
      "Validation score: 0.782857\n",
      "Iteration 4, loss = 0.38595381\n",
      "Validation score: 0.825714\n",
      "Iteration 5, loss = 0.33697659\n",
      "Validation score: 0.828571\n",
      "Iteration 6, loss = 0.30169300\n",
      "Validation score: 0.837143\n",
      "Iteration 7, loss = 0.27626659\n",
      "Validation score: 0.845714\n",
      "Iteration 8, loss = 0.25652474\n",
      "Validation score: 0.845714\n",
      "Iteration 9, loss = 0.24122564\n",
      "Validation score: 0.842857\n",
      "Iteration 10, loss = 0.22865456\n",
      "Validation score: 0.845714\n",
      "Validation score did not improve more than tol=0.000100 for two consecutive epochs. Stopping.\n",
      "0.844\n"
     ]
    }
   ],
   "source": [
    "from sklearn.neural_network import MLPClassifier\n",
    "\n",
    "# classificatore\n",
    "mlpClf = MLPClassifier(solver = 'adam', activation= 'relu' ,alpha = 0.05, verbose = True, early_stopping = True,\n",
    "                         learning_rate = 'invscaling', max_iter = 400)\n",
    "    # 'adam': è una discesa stocastica del gradiente ottimizzata\n",
    "    # 'relu': f(x) = max(0, x)\n",
    "    # alpha: parametro di regolarizzazione\n",
    "    # early_stopping: si ferma e non migliora il validation score per 10 epoche di fila\n",
    "    # 'invscaling': diminuisce il passo di apprendimento, con una funzione di 1/t (o potenze di 1/t). t = step di appendimento\n",
    "    # sto usando in MLP con un solo layer nascosto \n",
    "        \n",
    "# K fold per la cross-validation\n",
    "kf = KFold(n_splits = 8)\n",
    "\n",
    "# alleamento e validazione su tutti i KFold\n",
    "for train_indices, test_indices in kf.split(x_train):\n",
    "    mlpClf.fit(x_train[train_indices], y_train[train_indices])\n",
    "    print(mlpClf.score(x_train[test_indices], y_train[test_indices]))"
   ]
  },
  {
   "cell_type": "code",
   "execution_count": 15,
   "metadata": {},
   "outputs": [],
   "source": [
    "#predizione per i punti del validation set\n",
    "y_score = mlpClf.predict_proba(x_validation)[:,1]"
   ]
  },
  {
   "cell_type": "code",
   "execution_count": 16,
   "metadata": {},
   "outputs": [
    {
     "data": {
      "image/png": "[encoded data removed]",
      "text/plain": [
       "<Figure size 432x288 with 1 Axes>"
      ]
     },
     "metadata": {},
     "output_type": "display_data"
    }
   ],
   "source": [
    "# Roc Curve for validation data \n",
    "from sklearn.metrics import roc_curve, auc\n",
    "fpr, tpr, thresholds = roc_curve(y_validation, y_score)\n",
    "roc_auc = auc(fpr, tpr) \n",
    "\n",
    "plt.figure()\n",
    "lw = 2\n",
    "plt.plot(fpr, tpr, color='darkorange',\n",
    "         lw=lw, label='ROC curve (area = %0.4f)'% roc_auc )\n",
    "\n",
    "plt.plot([0, 1], [0, 1], color='navy', lw=lw, linestyle='--')\n",
    "plt.xlim([0.0, 1.0])\n",
    "plt.ylim([0.0, 1.0])\n",
    "plt.xlabel('False Positive Rate')\n",
    "plt.ylabel('True Positive Rate')\n",
    "plt.title('Receiver operating characteristic example')\n",
    "plt.legend(loc=\"lower right\")\n",
    "plt.show()"
   ]
  },
  {
   "cell_type": "code",
   "execution_count": null,
   "metadata": {},
   "outputs": [],
   "source": []
  },
  {
   "cell_type": "markdown",
   "metadata": {},
   "source": [
    "## Logistic Regression "
   ]
  },
  {
   "cell_type": "code",
   "execution_count": 17,
   "metadata": {},
   "outputs": [],
   "source": [
    "#creo il dataframe con i risultati dell'analisidel subreddit:\n",
    "\n",
    "scoreXSparse = pd.DataFrame({\"y_validation\":y_validation, \"XSparseGender\":y_score})\n",
    "scoreXSparse.to_csv('scoreXSparseValidation.csv')"
   ]
  },
  {
   "cell_type": "code",
   "execution_count": 18,
   "metadata": {},
   "outputs": [],
   "source": [
    "#vado a riprendere i risultati dell'analisi dei subreddit\n",
    "scoreXSparse = pd.read_csv('scoreXSparseValidation.csv', index_col = 0)"
   ]
  },
  {
   "cell_type": "code",
   "execution_count": 19,
   "metadata": {},
   "outputs": [],
   "source": [
    "#risultati dell'analisi dei W2V\n",
    "scoreW2V = pd.read_csv('scoreW2VAugvalidation.csv', index_col= 0)"
   ]
  },
  {
   "cell_type": "code",
   "execution_count": 20,
   "metadata": {},
   "outputs": [],
   "source": [
    "#risultati tfidf\n",
    "scoreTfIdf = pd.read_csv('scoreTfIdfvalidation.csv', index_col= 0)"
   ]
  },
  {
   "cell_type": "code",
   "execution_count": 21,
   "metadata": {},
   "outputs": [
    {
     "name": "stdout",
     "output_type": "stream",
     "text": [
      "i validation set contengono tutti lo stesso numero di dati?\n",
      "1000\n",
      "1000\n",
      "1000\n"
     ]
    }
   ],
   "source": [
    "print (\"i validation set contengono tutti lo stesso numero di dati?\")\n",
    "print (scoreW2V.shape[0])\n",
    "print (scoreXSparse.shape[0])\n",
    "print (scoreTfIdf.shape[0])"
   ]
  },
  {
   "cell_type": "code",
   "execution_count": 22,
   "metadata": {},
   "outputs": [
    {
     "data": {
      "text/html": [
       "<div>\n",
       "<style scoped>\n",
       "    .dataframe tbody tr th:only-of-type {\n",
       "        vertical-align: middle;\n",
       "    }\n",
       "\n",
       "    .dataframe tbody tr th {\n",
       "        vertical-align: top;\n",
       "    }\n",
       "\n",
       "    .dataframe thead th {\n",
       "        text-align: right;\n",
       "    }\n",
       "</style>\n",
       "<table border=\"1\" class=\"dataframe\">\n",
       "  <thead>\n",
       "    <tr style=\"text-align: right;\">\n",
       "      <th></th>\n",
       "      <th>y_validation</th>\n",
       "      <th>XSparseGender</th>\n",
       "      <th>TfIdfGender</th>\n",
       "      <th>W2VGender</th>\n",
       "    </tr>\n",
       "  </thead>\n",
       "  <tbody>\n",
       "    <tr>\n",
       "      <th>0</th>\n",
       "      <td>0</td>\n",
       "      <td>0.498173</td>\n",
       "      <td>0.101771</td>\n",
       "      <td>0.224794</td>\n",
       "    </tr>\n",
       "    <tr>\n",
       "      <th>1</th>\n",
       "      <td>1</td>\n",
       "      <td>0.764619</td>\n",
       "      <td>0.435041</td>\n",
       "      <td>0.641778</td>\n",
       "    </tr>\n",
       "    <tr>\n",
       "      <th>2</th>\n",
       "      <td>0</td>\n",
       "      <td>0.001107</td>\n",
       "      <td>0.029233</td>\n",
       "      <td>0.147491</td>\n",
       "    </tr>\n",
       "    <tr>\n",
       "      <th>3</th>\n",
       "      <td>0</td>\n",
       "      <td>0.022667</td>\n",
       "      <td>0.004907</td>\n",
       "      <td>0.584504</td>\n",
       "    </tr>\n",
       "    <tr>\n",
       "      <th>4</th>\n",
       "      <td>0</td>\n",
       "      <td>0.167801</td>\n",
       "      <td>0.685253</td>\n",
       "      <td>0.624355</td>\n",
       "    </tr>\n",
       "  </tbody>\n",
       "</table>\n",
       "</div>"
      ],
      "text/plain": [
       "   y_validation  XSparseGender  TfIdfGender  W2VGender\n",
       "0             0       0.498173     0.101771   0.224794\n",
       "1             1       0.764619     0.435041   0.641778\n",
       "2             0       0.001107     0.029233   0.147491\n",
       "3             0       0.022667     0.004907   0.584504\n",
       "4             0       0.167801     0.685253   0.624355"
      ]
     },
     "execution_count": 22,
     "metadata": {},
     "output_type": "execute_result"
    }
   ],
   "source": [
    "#creo un dataframe unico\n",
    "scoreFinal = pd.DataFrame({\"y_validation\": scoreXSparse.y_validation, \"XSparseGender\": scoreXSparse.XSparseGender,\n",
    "                           \"TfIdfGender\": scoreTfIdf.TfIdfGender, \"W2VGender\": scoreW2V.W2VAugGender})\n",
    "\n",
    "scoreFinal.head()"
   ]
  },
  {
   "cell_type": "code",
   "execution_count": 23,
   "metadata": {},
   "outputs": [],
   "source": [
    "X = scoreFinal.iloc[:, 1:4]\n",
    "y = scoreFinal.y_validation"
   ]
  },
  {
   "cell_type": "code",
   "execution_count": 24,
   "metadata": {},
   "outputs": [],
   "source": [
    "SEED = 2000\n",
    "x_trainLR , x_validationLR, y_trainLR , y_validationLR = train_test_split(X, y, test_size = 0.2, \n",
    "                                                                 random_state = SEED)"
   ]
  },
  {
   "cell_type": "code",
   "execution_count": 25,
   "metadata": {},
   "outputs": [
    {
     "name": "stdout",
     "output_type": "stream",
     "text": [
      "0.9125\n",
      "0.9\n",
      "0.8875\n",
      "0.8875\n",
      "0.825\n",
      "0.85\n",
      "0.85\n",
      "0.8375\n",
      "0.9\n",
      "0.925\n"
     ]
    }
   ],
   "source": [
    "from sklearn.linear_model import LogisticRegression \n",
    "\n",
    "lrClf = LogisticRegression(C = 1)  #modello\n",
    "\n",
    "kf = KFold(n_splits = 10)          #Kfold percross-validation\n",
    "\n",
    "for train_indices, test_indices in kf.split(x_trainLR):    #allenamento\n",
    "    lrClf.fit(x_trainLR.iloc[train_indices], y_trainLR.iloc[train_indices])\n",
    "    print(lrClf.score(x_trainLR.iloc[test_indices], y_trainLR.iloc[test_indices]))"
   ]
  },
  {
   "cell_type": "code",
   "execution_count": 26,
   "metadata": {},
   "outputs": [
    {
     "data": {
      "text/plain": [
       "0.895"
      ]
     },
     "execution_count": 26,
     "metadata": {},
     "output_type": "execute_result"
    }
   ],
   "source": [
    "lrClf.score(x_validationLR, y_validationLR)"
   ]
  },
  {
   "cell_type": "code",
   "execution_count": 27,
   "metadata": {},
   "outputs": [],
   "source": [
    "y_scoreLR = lrClf.predict_proba(x_validationLR)[:,1]"
   ]
  },
  {
   "cell_type": "code",
   "execution_count": 28,
   "metadata": {},
   "outputs": [
    {
     "data": {
      "image/png": "[encoded data removed]",
      "text/plain": [
       "<Figure size 432x288 with 1 Axes>"
      ]
     },
     "metadata": {},
     "output_type": "display_data"
    }
   ],
   "source": [
    "# Roc Curve for validation data \n",
    "from sklearn.metrics import roc_curve, auc\n",
    "fpr, tpr, thresholds = roc_curve(y_validationLR, y_scoreLR)\n",
    "roc_auc = auc(fpr, tpr) \n",
    "\n",
    "\n",
    "plt.figure()\n",
    "lw = 2\n",
    "plt.plot(fpr, tpr, color='darkorange',\n",
    "         lw=lw, label='ROC curve (area = %0.4f)'% roc_auc )\n",
    "\n",
    "\n",
    "plt.plot([0, 1], [0, 1], color='navy', lw=lw, linestyle='--')\n",
    "plt.xlim([0.0, 1.0])\n",
    "plt.ylim([0.0, 1.05])\n",
    "plt.xlabel('False Positive Rate')\n",
    "plt.ylabel('True Positive Rate')\n",
    "plt.title('Receiver operating characteristic example')\n",
    "plt.legend(loc=\"lower right\")\n",
    "plt.show()"
   ]
  },
  {
   "cell_type": "markdown",
   "metadata": {},
   "source": [
    "# Prepare the solution"
   ]
  },
  {
   "cell_type": "markdown",
   "metadata": {},
   "source": [
    "#### preparo il test set per fare l'analisi dei subreddit"
   ]
  },
  {
   "cell_type": "code",
   "execution_count": 29,
   "metadata": {},
   "outputs": [],
   "source": [
    "test_data = pd.read_csv(\"kaggle_data/test_data.csv.gz\", compression=\"gzip\", encoding=\"utf8\")"
   ]
  },
  {
   "cell_type": "code",
   "execution_count": 30,
   "metadata": {},
   "outputs": [],
   "source": [
    "features_dict = {}\n",
    "\n",
    "for author, group in test_data.groupby('author'):\n",
    "    features_dict[author] = extract_features(group)"
   ]
  },
  {
   "cell_type": "code",
   "execution_count": 31,
   "metadata": {},
   "outputs": [
    {
     "data": {
      "text/plain": [
       "<15000x3468 sparse matrix of type '<class 'numpy.float64'>'\n",
       "\twith 144898 stored elements in Compressed Sparse Row format>"
      ]
     },
     "execution_count": 31,
     "metadata": {},
     "output_type": "execute_result"
    }
   ],
   "source": [
    "X_test = sparse.vstack([features_dict[author] for author in test_data.author.unique()])\n",
    "X_test"
   ]
  },
  {
   "cell_type": "code",
   "execution_count": 32,
   "metadata": {},
   "outputs": [],
   "source": [
    "y_predSub = mlpClf.predict_proba(X_test)[:,1]"
   ]
  },
  {
   "cell_type": "code",
   "execution_count": 33,
   "metadata": {},
   "outputs": [],
   "source": [
    "solution = pd.DataFrame({\"author\":test_data.author.unique(), \"genderSub\":y_predSub})"
   ]
  },
  {
   "cell_type": "markdown",
   "metadata": {},
   "source": [
    "#### Combining w2v, tfidf and sparse (author + subreddit) matrix "
   ]
  },
  {
   "cell_type": "code",
   "execution_count": 34,
   "metadata": {},
   "outputs": [],
   "source": [
    "ProbTfIdf = pd.read_csv('solutionTfIdf.csv', index_col = 0 )"
   ]
  },
  {
   "cell_type": "code",
   "execution_count": 35,
   "metadata": {},
   "outputs": [],
   "source": [
    "solution['genderTfIdf'] = ProbTfIdf.ProbTfIdf "
   ]
  },
  {
   "cell_type": "code",
   "execution_count": 36,
   "metadata": {},
   "outputs": [],
   "source": [
    "ProbW2V = pd.read_csv('solutionW2V.csv', index_col = 0 )"
   ]
  },
  {
   "cell_type": "code",
   "execution_count": 38,
   "metadata": {},
   "outputs": [],
   "source": [
    "solution['genderW2V'] = ProbW2V.W2VGender"
   ]
  },
  {
   "cell_type": "code",
   "execution_count": 39,
   "metadata": {},
   "outputs": [],
   "source": [
    "ProbW2VAug = pd.read_csv('solutionW2VAug.csv', index_col = 0 )"
   ]
  },
  {
   "cell_type": "code",
   "execution_count": 40,
   "metadata": {},
   "outputs": [],
   "source": [
    "solution['genderW2VAug'] = ProbW2VAug.W2VAugGender"
   ]
  },
  {
   "cell_type": "code",
   "execution_count": 41,
   "metadata": {},
   "outputs": [
    {
     "data": {
      "text/html": [
       "<div>\n",
       "<style scoped>\n",
       "    .dataframe tbody tr th:only-of-type {\n",
       "        vertical-align: middle;\n",
       "    }\n",
       "\n",
       "    .dataframe tbody tr th {\n",
       "        vertical-align: top;\n",
       "    }\n",
       "\n",
       "    .dataframe thead th {\n",
       "        text-align: right;\n",
       "    }\n",
       "</style>\n",
       "<table border=\"1\" class=\"dataframe\">\n",
       "  <thead>\n",
       "    <tr style=\"text-align: right;\">\n",
       "      <th></th>\n",
       "      <th>author</th>\n",
       "      <th>genderSub</th>\n",
       "      <th>genderTfIdf</th>\n",
       "      <th>genderW2V</th>\n",
       "      <th>genderW2VAug</th>\n",
       "    </tr>\n",
       "  </thead>\n",
       "  <tbody>\n",
       "    <tr>\n",
       "      <th>0</th>\n",
       "      <td>ejchristian86</td>\n",
       "      <td>0.996559</td>\n",
       "      <td>0.639294</td>\n",
       "      <td>0.498252</td>\n",
       "      <td>0.556254</td>\n",
       "    </tr>\n",
       "    <tr>\n",
       "      <th>1</th>\n",
       "      <td>ZenDragon</td>\n",
       "      <td>0.010648</td>\n",
       "      <td>0.012001</td>\n",
       "      <td>0.038303</td>\n",
       "      <td>0.108947</td>\n",
       "    </tr>\n",
       "    <tr>\n",
       "      <th>2</th>\n",
       "      <td>savoytruffle</td>\n",
       "      <td>0.022415</td>\n",
       "      <td>0.010682</td>\n",
       "      <td>0.156169</td>\n",
       "      <td>0.312151</td>\n",
       "    </tr>\n",
       "    <tr>\n",
       "      <th>3</th>\n",
       "      <td>hentercenter</td>\n",
       "      <td>0.021039</td>\n",
       "      <td>0.086011</td>\n",
       "      <td>0.197238</td>\n",
       "      <td>0.398300</td>\n",
       "    </tr>\n",
       "    <tr>\n",
       "      <th>4</th>\n",
       "      <td>rick-o-suave</td>\n",
       "      <td>0.333481</td>\n",
       "      <td>0.156351</td>\n",
       "      <td>0.096180</td>\n",
       "      <td>0.142759</td>\n",
       "    </tr>\n",
       "  </tbody>\n",
       "</table>\n",
       "</div>"
      ],
      "text/plain": [
       "          author  genderSub  genderTfIdf  genderW2V  genderW2VAug\n",
       "0  ejchristian86   0.996559     0.639294   0.498252      0.556254\n",
       "1      ZenDragon   0.010648     0.012001   0.038303      0.108947\n",
       "2   savoytruffle   0.022415     0.010682   0.156169      0.312151\n",
       "3   hentercenter   0.021039     0.086011   0.197238      0.398300\n",
       "4   rick-o-suave   0.333481     0.156351   0.096180      0.142759"
      ]
     },
     "execution_count": 41,
     "metadata": {},
     "output_type": "execute_result"
    }
   ],
   "source": [
    "solution.head()"
   ]
  },
  {
   "cell_type": "code",
   "execution_count": 42,
   "metadata": {},
   "outputs": [],
   "source": [
    "x_testLR = solution.iloc[:, 1:4]"
   ]
  },
  {
   "cell_type": "code",
   "execution_count": 43,
   "metadata": {},
   "outputs": [],
   "source": [
    "y_testLR = lrClf.predict_proba(x_testLR)[:,1] #applico laregressione lineare"
   ]
  },
  {
   "cell_type": "markdown",
   "metadata": {},
   "source": [
    "#### preparo la submission"
   ]
  },
  {
   "cell_type": "code",
   "execution_count": 44,
   "metadata": {},
   "outputs": [],
   "source": [
    "submissionFinal = pd.DataFrame({\"author\":test_data.author.unique(), \"gender\":y_testLR})\n"
   ]
  },
  {
   "cell_type": "code",
   "execution_count": 45,
   "metadata": {},
   "outputs": [],
   "source": [
    "submissionFinal.to_csv(\"submission.csv\", index=False)"
   ]
  },
  {
   "cell_type": "code",
   "execution_count": 46,
   "metadata": {},
   "outputs": [
    {
     "data": {
      "text/html": [
       "<div>\n",
       "<style scoped>\n",
       "    .dataframe tbody tr th:only-of-type {\n",
       "        vertical-align: middle;\n",
       "    }\n",
       "\n",
       "    .dataframe tbody tr th {\n",
       "        vertical-align: top;\n",
       "    }\n",
       "\n",
       "    .dataframe thead th {\n",
       "        text-align: right;\n",
       "    }\n",
       "</style>\n",
       "<table border=\"1\" class=\"dataframe\">\n",
       "  <thead>\n",
       "    <tr style=\"text-align: right;\">\n",
       "      <th></th>\n",
       "      <th>author</th>\n",
       "      <th>gender</th>\n",
       "    </tr>\n",
       "  </thead>\n",
       "  <tbody>\n",
       "    <tr>\n",
       "      <th>0</th>\n",
       "      <td>ejchristian86</td>\n",
       "      <td>0.935392</td>\n",
       "    </tr>\n",
       "    <tr>\n",
       "      <th>1</th>\n",
       "      <td>ZenDragon</td>\n",
       "      <td>0.025721</td>\n",
       "    </tr>\n",
       "    <tr>\n",
       "      <th>2</th>\n",
       "      <td>savoytruffle</td>\n",
       "      <td>0.032170</td>\n",
       "    </tr>\n",
       "    <tr>\n",
       "      <th>3</th>\n",
       "      <td>hentercenter</td>\n",
       "      <td>0.038987</td>\n",
       "    </tr>\n",
       "    <tr>\n",
       "      <th>4</th>\n",
       "      <td>rick-o-suave</td>\n",
       "      <td>0.138651</td>\n",
       "    </tr>\n",
       "  </tbody>\n",
       "</table>\n",
       "</div>"
      ],
      "text/plain": [
       "          author    gender\n",
       "0  ejchristian86  0.935392\n",
       "1      ZenDragon  0.025721\n",
       "2   savoytruffle  0.032170\n",
       "3   hentercenter  0.038987\n",
       "4   rick-o-suave  0.138651"
      ]
     },
     "execution_count": 46,
     "metadata": {},
     "output_type": "execute_result"
    }
   ],
   "source": [
    "submissionFinal.head()"
   ]
  },
  {
   "cell_type": "code",
   "execution_count": null,
   "metadata": {},
   "outputs": [],
   "source": []
  }
 ],
 "metadata": {
  "kernelspec": {
   "display_name": "Python 3",
   "language": "python",
   "name": "python3"
  },
  "language_info": {
   "codemirror_mode": {
    "name": "ipython",
    "version": 3
   },
   "file_extension": ".py",
   "mimetype": "text/x-python",
   "name": "python",
   "nbconvert_exporter": "python",
   "pygments_lexer": "ipython3",
   "version": "3.7.0"
  }
 },
 "nbformat": 4,
 "nbformat_minor": 1
}
